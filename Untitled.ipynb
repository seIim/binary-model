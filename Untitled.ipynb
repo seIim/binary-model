{
 "cells": [
  {
   "cell_type": "code",
   "execution_count": 1,
   "id": "0ed5746f-d712-4501-aead-1f2f7eca64c4",
   "metadata": {},
   "outputs": [],
   "source": [
    "import optimization_run as opt"
   ]
  },
  {
   "cell_type": "code",
   "execution_count": 2,
   "id": "4f6a5c8c-deb5-4646-a4a5-9ac1cefa845a",
   "metadata": {},
   "outputs": [],
   "source": [
    "import matplotlib.pyplot as plt\n",
    "import seaborn as sns\n",
    "%config InlineBackend.figure_format='retina'\n",
    "plt.rcParams.update({'axes.linewidth'    : 0.5,\n",
    "                     'ytick.major.width' : 0.5,\n",
    "                     'ytick.minor.width' : 0.5,\n",
    "                     'xtick.major.width' : 0.5,\n",
    "                     'xtick.minor.width' : 0.5,\n",
    "                     'xtick.major.size'  : 4,\n",
    "                     'xtick.minor.size'  : 2,\n",
    "                     'ytick.major.size'  : 4,\n",
    "                     'ytick.minor.size'  : 2,\n",
    "                     'xtick.minor.visible' : 'True',\n",
    "                     'ytick.minor.visible' : 'True',\n",
    "                     'xtick.labelsize': 6, \n",
    "                     'ytick.labelsize': 6,\n",
    "                     'axes.labelsize' : 10,\n",
    "                     'font.family': 'Serif',\n",
    "                     'figure.figsize': (3.5, 3.33),\n",
    "                     'figure.dpi' : 200,\n",
    "                     'ytick.right': 'True',\n",
    "                     'xtick.top'  : 'True',\n",
    "                     'ytick.direction': 'in',\n",
    "                     'xtick.direction': 'in',\n",
    "                     'axes.spines.top': 'True',\n",
    "                     'axes.grid': 'False',\n",
    "                     'grid.linestyle': '--',\n",
    "                     'grid.linewidth': 0.10\n",
    "                    })\n",
    "sns.set_palette('deep')"
   ]
  },
  {
   "cell_type": "code",
   "execution_count": 3,
   "id": "52951c6d-69fe-4c68-839e-c25c9d5d3bb4",
   "metadata": {},
   "outputs": [],
   "source": [
    "ep,tp,best_tp,disp, best_disp = [],[],[],[],[]"
   ]
  },
  {
   "cell_type": "code",
   "execution_count": null,
   "id": "9a58fee1-d35b-447a-961d-5cb4d1e06231",
   "metadata": {},
   "outputs": [
    {
     "name": "stderr",
     "output_type": "stream",
     "text": [
      "sample: 100%|█████████████████████████████████████████████████████████████████████████████████████████████████████████████████████| 1200/1200 [01:50<00:00, 10.82it/s, acc. prob=0.45]\n"
     ]
    }
   ],
   "source": [
    "for noise in [0.1, 0.5, 1.0]:\n",
    "    _ep,_tp,_best_tp,_disp,_best_disp = opt.main(noise=noise)\n",
    "    ep.append(_ep)\n",
    "    tp.append(_tp)\n",
    "    best_tp.append(_best_tp)\n",
    "    disp.append(_disp)\n",
    "    best_disp.append(_best_disp)"
   ]
  },
  {
   "cell_type": "code",
   "execution_count": null,
   "id": "31c56383-2d78-43f6-919d-3426fbe1bf43",
   "metadata": {},
   "outputs": [],
   "source": [
    "import jax.numpy as jnp"
   ]
  },
  {
   "cell_type": "code",
   "execution_count": null,
   "id": "ccefb50c-a23d-4fed-9014-037758b53f89",
   "metadata": {},
   "outputs": [],
   "source": [
    "best_tp = jnp.array(best_tp)\n",
    "best_disp = jnp.array(best_disp)"
   ]
  },
  {
   "cell_type": "code",
   "execution_count": null,
   "id": "1a047c84-97ef-4c37-ae7b-0ae084ce4435",
   "metadata": {},
   "outputs": [],
   "source": [
    "labels = [r'$\\sigma$ = 0.1',r'$\\sigma$ = 0.5',r'$\\sigma$ = 1.0']\n",
    "for i in range(3):\n",
    "    _, caplines, _ = plt.errorbar(ep[i], tp[i], yerr=best_tp[i] - jnp.array(tp)[i],\n",
    "                                      fmt='-o', lolims=True, label=labels[i],\n",
    "                                 alpha=0.85)#, markeredgecolor='k')\n",
    "\n",
    "    caplines[0].set_marker('_')\n",
    "plt.xlabel('Number of Epochs')\n",
    "plt.ylabel('Detection Fraction (TP)')\n",
    "plt.title(r'$T = 2.0~\\mathrm{years}$')\n",
    "plt.legend(frameon=False, fontsize=8, markerscale=0.75)\n",
    "plt.locator_params(axis='y', nbins=5)\n",
    "plt.locator_params(axis='x', nbins=5)\n",
    "plt.savefig('opt_run_results.pdf', bbox_inches='tight')\n",
    "plt.show()"
   ]
  },
  {
   "cell_type": "code",
   "execution_count": null,
   "id": "f552829a-e8bb-42e2-a76b-37b01c430b08",
   "metadata": {},
   "outputs": [],
   "source": [
    "labels = [r'$\\sigma$ = 0.1',r'$\\sigma$ = 0.5',r'$\\sigma$ = 1.0']\n",
    "for i in range(3):\n",
    "    _, caplines, _ = plt.errorbar(ep[i], disp[i], yerr=jnp.abs(jnp.array(disp[i]) - best_disp[i]),\n",
    "                                      fmt='-o', uplims=True, label=labels[i],\n",
    "                                 alpha=0.85)#, markeredgecolor='k')\n",
    "\n",
    "    caplines[0].set_marker('_')\n",
    "plt.xlabel('Number of Epochs')\n",
    "plt.ylabel(r'$\\sigma_\\mathrm{obs}/\\sigma_0$')\n",
    "plt.title(r'$T = 2.0~\\mathrm{years}$')\n",
    "plt.legend(frameon=False, fontsize=8, markerscale=0.75)\n",
    "plt.locator_params(axis='y', nbins=5)\n",
    "plt.locator_params(axis='x', nbins=5)\n",
    "plt.savefig('opt_run_results_dispersion.pdf', bbox_inches='tight')\n",
    "plt.show()"
   ]
  },
  {
   "cell_type": "code",
   "execution_count": null,
   "id": "ead25740-45a6-4a65-b2e3-f8d29f151192",
   "metadata": {},
   "outputs": [],
   "source": []
  }
 ],
 "metadata": {
  "kernelspec": {
   "display_name": "Python 3 (ipykernel)",
   "language": "python",
   "name": "python3"
  },
  "language_info": {
   "codemirror_mode": {
    "name": "ipython",
    "version": 3
   },
   "file_extension": ".py",
   "mimetype": "text/x-python",
   "name": "python",
   "nbconvert_exporter": "python",
   "pygments_lexer": "ipython3",
   "version": "3.12.2"
  }
 },
 "nbformat": 4,
 "nbformat_minor": 5
}
