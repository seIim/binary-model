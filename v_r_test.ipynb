{
 "cells": [
  {
   "cell_type": "code",
   "execution_count": null,
   "metadata": {},
   "outputs": [],
   "source": [
    "import matplotlib.pyplot as plt\n",
    "from spencer2017 import *\n",
    "%config InlineBackend.figure_format='retina'\n",
    "plt.rcParams.update({'axes.linewidth'    : 0.4,\n",
    "                     'ytick.major.width' : 0.4,\n",
    "                     'ytick.minor.width' : 0.4,\n",
    "                     'xtick.major.width' : 0.4,\n",
    "                     'xtick.minor.width' : 0.4,\n",
    "                     'xtick.major.size'  : 4,\n",
    "                     'ytick.major.size'  : 4,\n",
    "                     'xtick.minor.visible' : 'True',\n",
    "                     'ytick.minor.visible' : 'True',\n",
    "                     'xtick.labelsize': 8, \n",
    "                     'ytick.labelsize': 8,\n",
    "                     'axes.labelsize' : 8,\n",
    "                     'font.family': 'Serif',\n",
    "                     'figure.figsize': (10/3, 3.3),\n",
    "                     'figure.dpi' : 200,\n",
    "                     'ytick.right': 'True',\n",
    "                     'xtick.top'  : 'True',\n",
    "                     'ytick.direction': 'in',\n",
    "                     'xtick.direction': 'in',\n",
    "                     'axes.spines.top': 'True',\n",
    "                     'axes.grid': 'False',\n",
    "                     'grid.linestyle': '--',\n",
    "                     'grid.linewidth': 0.25\n",
    "                    })\n",
    "import seaborn as sns\n",
    "sns.set_palette('deep')"
   ]
  },
  {
   "cell_type": "code",
   "execution_count": 3,
   "metadata": {},
   "outputs": [],
   "source": [
    "state0 = OrbitParams(0.8,0.5,0.5,jnp.log10(100*365.25),jnp.pi/2,jnp.pi/2, None, jnp.pi/2,0)"
   ]
  },
  {
   "cell_type": "code",
   "execution_count": 4,
   "metadata": {},
   "outputs": [],
   "source": [
    "model = BinaryModel()"
   ]
  },
  {
   "cell_type": "code",
   "execution_count": 5,
   "metadata": {},
   "outputs": [],
   "source": [
    "state0 = model.init(state0)"
   ]
  },
  {
   "cell_type": "code",
   "execution_count": 6,
   "metadata": {},
   "outputs": [
    {
     "data": {
      "text/plain": [
       "OrbitParams(m_1=0.8, q=0.5, e=0.5, logP=Array(4.56259, dtype=float32), i=1.5707963267948966, omega=1.5707963267948966, v=Array(-1.678826, dtype=float32), M=Array(1.5725166, dtype=float32), theta=Array(2.4475646, dtype=float32))"
      ]
     },
     "execution_count": 6,
     "metadata": {},
     "output_type": "execute_result"
    }
   ],
   "source": [
    "model.update(state0, 10) "
   ]
  },
  {
   "cell_type": "code",
   "execution_count": null,
   "metadata": {},
   "outputs": [],
   "source": []
  }
 ],
 "metadata": {
  "kernelspec": {
   "display_name": "base",
   "language": "python",
   "name": "python3"
  },
  "language_info": {
   "codemirror_mode": {
    "name": "ipython",
    "version": 3
   },
   "file_extension": ".py",
   "mimetype": "text/x-python",
   "name": "python",
   "nbconvert_exporter": "python",
   "pygments_lexer": "ipython3",
   "version": "3.12.4"
  }
 },
 "nbformat": 4,
 "nbformat_minor": 2
}
