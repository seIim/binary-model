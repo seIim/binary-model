{
 "cells": [
  {
   "cell_type": "code",
   "execution_count": 1,
   "id": "7d20daaf-537c-463b-8da8-27ccace392e5",
   "metadata": {},
   "outputs": [],
   "source": [
    "import numpyro, numpyro.distributions as dist\n",
    "import jax, jax.random as random, jax.numpy as jnp, matplotlib.pyplot as plt\n",
    "%config InlineBackend.figure_format='retina'\n",
    "plt.rcParams.update({'axes.linewidth'    : 0.4,\n",
    "                     'ytick.major.width' : 0.4,\n",
    "                     'ytick.minor.width' : 0.4,\n",
    "                     'xtick.major.width' : 0.4,\n",
    "                     'xtick.minor.width' : 0.4,\n",
    "                     'xtick.major.size'  : 4,\n",
    "                     'ytick.major.size'  : 4,\n",
    "                     'xtick.minor.visible' : 'True',\n",
    "                     'ytick.minor.visible' : 'True',\n",
    "                     'xtick.labelsize': 8, \n",
    "                     'ytick.labelsize': 8,\n",
    "                     'axes.labelsize' : 8,\n",
    "                     'font.family': 'Serif',\n",
    "                     'figure.figsize': (10/3, 3.3),\n",
    "                     'figure.dpi' : 200,\n",
    "                     'ytick.right': 'True',\n",
    "                     'xtick.top'  : 'True',\n",
    "                     'ytick.direction': 'in',\n",
    "                     'xtick.direction': 'in',\n",
    "                     'axes.spines.top': 'True',\n",
    "                     'axes.grid': 'False',\n",
    "                     'grid.linestyle': '--',\n",
    "                     'grid.linewidth': 0.25\n",
    "                    })\n",
    "import seaborn as sns\n",
    "sns.set_palette('deep')"
   ]
  },
  {
   "cell_type": "code",
   "execution_count": 2,
   "id": "ee72b9bc-9fd1-45e6-9033-de581c817b7f",
   "metadata": {},
   "outputs": [],
   "source": [
    "def inclination_dist(key, shape):\n",
    "    icdf = lambda u: jnp.arccos(1 - u)\n",
    "    u = random.uniform(key, shape)\n",
    "    return icdf(u)\n",
    "\n",
    "def mean_anomaly_dist(key,shape):\n",
    "    return 2*jnp.pi*random.uniform(key,shape)"
   ]
  },
  {
   "cell_type": "code",
   "execution_count": 3,
   "id": "9be9e59f-60c8-4cb1-a6f7-5f7656272365",
   "metadata": {},
   "outputs": [],
   "source": [
    "key = random.PRNGKey(11)\n",
    "shape = (100000,)\n",
    "i_samples = inclination_dist(key, shape)\n",
    "M_samples = mean_anomaly_dist(key, shape)\n",
    "e_samples = random.uniform(key,shape)"
   ]
  },
  {
   "cell_type": "code",
   "execution_count": 169,
   "id": "8d0d3c49-9e46-4b90-9872-4b251a74c872",
   "metadata": {},
   "outputs": [
    {
     "data": {
      "image/png": "[encoded data removed]",
      "text/plain": [
       "<Figure size 640x480 with 1 Axes>"
      ]
     },
     "metadata": {},
     "output_type": "display_data"
    }
   ],
   "source": [
    "i_samples = i_samples*180/jnp.pi\n",
    "plt.hist(i_samples, bins=100)\n",
    "plt.xlim(0,90)\n",
    "plt.show()"
   ]
  },
  {
   "cell_type": "code",
   "execution_count": 21,
   "id": "828e77d6-d91c-42c7-8ddc-60b7f9ad8baf",
   "metadata": {},
   "outputs": [],
   "source": [
    "import jaxopt\n",
    "from functools import partial"
   ]
  },
  {
   "cell_type": "code",
   "execution_count": 147,
   "id": "53b42cce-dd33-4dfe-8882-6ce79596ca43",
   "metadata": {},
   "outputs": [],
   "source": [
    "def kepler_equation(E, M, e):\n",
    "    return E - e * jnp.sin(E) - M\n",
    "def kepler_equation_fixed(E, M, e):\n",
    "    return M + e * jnp.sin(E)"
   ]
  },
  {
   "cell_type": "code",
   "execution_count": 148,
   "id": "f8d1a9c1-c8f6-47c2-ae5f-67930f86796b",
   "metadata": {},
   "outputs": [],
   "source": [
    "F = partial(kepler_equation, M=M_samples,e=e_samples)\n",
    "F_fixed = partial(kepler_equation_fixed, M=M_samples,e=e_samples)"
   ]
  },
  {
   "cell_type": "code",
   "execution_count": 149,
   "id": "fd62d306-2f9c-44e5-936e-f10d4c759e67",
   "metadata": {},
   "outputs": [
    {
     "name": "stdout",
     "output_type": "stream",
     "text": [
      "CPU times: user 26.9 s, sys: 2.66 s, total: 29.6 s\n",
      "Wall time: 19.6 s\n"
     ]
    }
   ],
   "source": [
    "%%time\n",
    "E = []\n",
    "for i in range(len(M_samples)):\n",
    "    E.append(jaxopt.Bisection(partial(kepler_equation, M=M_samples[i],e=e_samples[i]),\n",
    "                lower=0, upper=2*jnp.pi).run().params)"
   ]
  },
  {
   "cell_type": "code",
   "execution_count": 150,
   "id": "4a388c2f-966d-4552-803c-a5cde66fb52b",
   "metadata": {},
   "outputs": [
    {
     "name": "stdout",
     "output_type": "stream",
     "text": [
      "CPU times: user 393 ms, sys: 27.5 ms, total: 420 ms\n",
      "Wall time: 395 ms\n"
     ]
    }
   ],
   "source": [
    "%%time\n",
    "res = jaxopt.ScipyRootFinding(method='hybr',optimality_fun=F,\n",
    "                             ).run(init_params=jnp.ones(shape=M_samples.shape)*jnp.pi).params"
   ]
  },
  {
   "cell_type": "code",
   "execution_count": 151,
   "id": "389b9fee-6bca-457b-8aca-226770773c12",
   "metadata": {},
   "outputs": [
    {
     "name": "stdout",
     "output_type": "stream",
     "text": [
      "CPU times: user 55.7 ms, sys: 5.26 ms, total: 60.9 ms\n",
      "Wall time: 36.9 ms\n"
     ]
    }
   ],
   "source": [
    "%%time\n",
    "res_aa = jaxopt.FixedPointIteration(fixed_point_fun=F_fixed\n",
    "                                    ).run(init_params=jnp.ones(shape=M_samples.shape)*jnp.pi).params"
   ]
  },
  {
   "cell_type": "code",
   "execution_count": 152,
   "id": "f377c404-1281-4a05-a6e1-0b7611ff8873",
   "metadata": {},
   "outputs": [
    {
     "data": {
      "text/plain": [
       "Array(4.7683716e-07, dtype=float32)"
      ]
     },
     "execution_count": 152,
     "metadata": {},
     "output_type": "execute_result"
    }
   ],
   "source": [
    "jnp.abs(kepler_equation(res, M_samples, e_samples)).max()"
   ]
  },
  {
   "cell_type": "code",
   "execution_count": 153,
   "id": "649faabd-54a1-454c-abe2-a0050641fd16",
   "metadata": {},
   "outputs": [
    {
     "data": {
      "text/plain": [
       "Array(9.953976e-06, dtype=float32)"
      ]
     },
     "execution_count": 153,
     "metadata": {},
     "output_type": "execute_result"
    }
   ],
   "source": [
    "jnp.abs(kepler_equation(jnp.array(E), M_samples, e_samples)).max()"
   ]
  },
  {
   "cell_type": "code",
   "execution_count": 154,
   "id": "de5811fe-d761-46f9-8444-c13df13bdeb9",
   "metadata": {},
   "outputs": [
    {
     "data": {
      "text/plain": [
       "Array(5.722046e-06, dtype=float32)"
      ]
     },
     "execution_count": 154,
     "metadata": {},
     "output_type": "execute_result"
    }
   ],
   "source": [
    "jnp.abs(kepler_equation(res_aa, M_samples, e_samples)).max()"
   ]
  },
  {
   "cell_type": "code",
   "execution_count": null,
   "id": "b8986fd7-cdcd-4ebf-a120-26f4a83094b4",
   "metadata": {},
   "outputs": [],
   "source": [
    "import jax.numpy as jnp\n",
    "import jax, jax.random as random\n",
    "from numpyro.distributions import Distribution\n",
    "from numpyro.distributions.util import validate_sample\n",
    "import numpyro\n",
    "\n",
    "class OrbitalInclination(Distribution):\n",
    "    support = numpyro.distributions.constraints.interval(0, jnp.pi/2)\n",
    "    \n",
    "    def __init__(self, validate_args=None):\n",
    "        super(OrbitalInclination, self).__init__(\n",
    "            batch_shape=(),\n",
    "            validate_args=validate_args\n",
    "        )\n",
    "    \n",
    "    def sample(self, key, sample_shape=()):\n",
    "        \"\"\"\n",
    "        Sample from the orbital inclination distribution using inverse CDF sampling.\n",
    "        \n",
    "        Args:\n",
    "            key: PRNGKey for random sampling\n",
    "            sample_shape: Shape of samples to generate\n",
    "            \n",
    "        Returns:\n",
    "            Samples from orbital inclination distribution in radians\n",
    "        \"\"\"\n",
    "        shape = sample_shape + self.batch_shape\n",
    "        u = random.uniform(key, shape)\n",
    "        return jnp.arccos(1 - u)\n",
    "    \n",
    "    def log_prob(self, value):\n",
    "        \"\"\"\n",
    "        Compute log probability of the orbital inclination value.\n",
    "        \n",
    "        The PDF is p(i) = sin(i) for i in [0, pi/2]\n",
    "        Therefore log_prob = log(sin(i))\n",
    "        \n",
    "        Args:\n",
    "            value: Value to compute probability for\n",
    "            \n",
    "        Returns:\n",
    "            Log probability of the value\n",
    "        \"\"\"\n",
    "        value = jnp.asarray(value)\n",
    "        if self._validate_args:\n",
    "            self._validate_sample(value)\n",
    "        \n",
    "        # Handle edge cases where sin(i) = 0\n",
    "        safe_val = jnp.clip(value, 1e-6, jnp.pi - 1e-6)\n",
    "        return jnp.log(jnp.sin(safe_val))\n",
    "\n",
    "    @validate_sample\n",
    "    def _validate_sample(self, value):\n",
    "        \"\"\"\n",
    "        Validate that samples are in the valid range [0, pi]\n",
    "        \"\"\"\n",
    "        return super()._validate_sample(value)"
   ]
  },
  {
   "cell_type": "code",
   "execution_count": 22,
   "id": "689666cd",
   "metadata": {},
   "outputs": [],
   "source": [
    "i = OrbitalInclination().sample(key=random.PRNGKey(42), sample_shape=(1000000,))"
   ]
  },
  {
   "cell_type": "code",
   "execution_count": 24,
   "id": "f88bb39d",
   "metadata": {},
   "outputs": [
    {
     "data": {
      "image/png": "[encoded data removed]",
      "text/plain": [
       "<Figure size 640x480 with 1 Axes>"
      ]
     },
     "metadata": {},
     "output_type": "display_data"
    }
   ],
   "source": [
    "import matplotlib.pyplot as plt\n",
    "plt.hist(i*180/jnp.pi, bins=100)\n",
    "plt.show()"
   ]
  },
  {
   "cell_type": "code",
   "execution_count": null,
   "id": "662c71a3",
   "metadata": {},
   "outputs": [],
   "source": []
  }
 ],
 "metadata": {
  "kernelspec": {
   "display_name": "base",
   "language": "python",
   "name": "python3"
  },
  "language_info": {
   "codemirror_mode": {
    "name": "ipython",
    "version": 3
   },
   "file_extension": ".py",
   "mimetype": "text/x-python",
   "name": "python",
   "nbconvert_exporter": "python",
   "pygments_lexer": "ipython3",
   "version": "3.12.4"
  }
 },
 "nbformat": 4,
 "nbformat_minor": 5
}
