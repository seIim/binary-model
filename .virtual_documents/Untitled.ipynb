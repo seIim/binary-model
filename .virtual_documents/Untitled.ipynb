import optimization_run as opt


import matplotlib.pyplot as plt
import seaborn as sns
%config InlineBackend.figure_format='retina'
plt.rcParams.update({'axes.linewidth'    : 0.5,
                     'ytick.major.width' : 0.5,
                     'ytick.minor.width' : 0.5,
                     'xtick.major.width' : 0.5,
                     'xtick.minor.width' : 0.5,
                     'xtick.major.size'  : 4,
                     'xtick.minor.size'  : 2,
                     'ytick.major.size'  : 4,
                     'ytick.minor.size'  : 2,
                     'xtick.minor.visible' : 'True',
                     'ytick.minor.visible' : 'True',
                     'xtick.labelsize': 6, 
                     'ytick.labelsize': 6,
                     'axes.labelsize' : 10,
                     'font.family': 'Serif',
                     'figure.figsize': (3.5, 3.33),
                     'figure.dpi' : 200,
                     'ytick.right': 'True',
                     'xtick.top'  : 'True',
                     'ytick.direction': 'in',
                     'xtick.direction': 'in',
                     'axes.spines.top': 'True',
                     'axes.grid': 'False',
                     'grid.linestyle': '--',
                     'grid.linewidth': 0.10
                    })
sns.set_palette('deep')


ep,tp,best_tp,disp, best_disp = [],[],[],[],[]


for noise in [0.1, 0.5, 1.0]:
    _ep,_tp,_best_tp,_disp,_best_disp = opt.main(noise=noise)
    ep.append(_ep)
    tp.append(_tp)
    best_tp.append(_best_tp)
    disp.append(_disp)
    best_disp.append(_best_disp)


import jax.numpy as jnp


best_tp = jnp.array(best_tp)
best_disp = jnp.array(best_disp)


labels = [r'$\sigma$ = 0.1',r'$\sigma$ = 0.5',r'$\sigma$ = 1.0']
for i in range(3):
    _, caplines, _ = plt.errorbar(ep[i], tp[i], yerr=best_tp[i] - jnp.array(tp)[i],
                                      fmt='-o', lolims=True, label=labels[i],
                                 alpha=0.85)#, markeredgecolor='k')

    caplines[0].set_marker('_')
plt.xlabel('Number of Epochs')
plt.ylabel('Detection Fraction (TP)')
plt.title(r'$T = 2.0~\mathrm{years}$')
plt.legend(frameon=False, fontsize=8, markerscale=0.75)
plt.locator_params(axis='y', nbins=5)
plt.locator_params(axis='x', nbins=5)
plt.savefig('opt_run_results.pdf', bbox_inches='tight')
plt.show()


labels = [r'$\sigma$ = 0.1',r'$\sigma$ = 0.5',r'$\sigma$ = 1.0']
for i in range(3):
    _, caplines, _ = plt.errorbar(ep[i], disp[i], yerr=jnp.abs(jnp.array(disp[i]) - best_disp[i]),
                                      fmt='-o', uplims=True, label=labels[i],
                                 alpha=0.85)#, markeredgecolor='k')

    caplines[0].set_marker('_')
plt.xlabel('Number of Epochs')
plt.ylabel(r'$\sigma_\mathrm{obs}/\sigma_0$')
plt.title(r'$T = 2.0~\mathrm{years}$')
plt.legend(frameon=False, fontsize=8, markerscale=0.75)
plt.locator_params(axis='y', nbins=5)
plt.locator_params(axis='x', nbins=5)
plt.savefig('opt_run_results_dispersion.pdf', bbox_inches='tight')
plt.show()



