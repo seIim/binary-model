{
 "cells": [
  {
   "cell_type": "code",
   "execution_count": 1,
   "metadata": {},
   "outputs": [],
   "source": [
    "import matplotlib.pyplot as plt\n",
    "from spencer2017 import *"
   ]
  },
  {
   "cell_type": "code",
   "execution_count": 2,
   "metadata": {},
   "outputs": [],
   "source": [
    "state0 = OrbitParams(0.8,0.5,0.5,100*365.25,jnp.pi/2,jnp.pi/2,None, jnp.pi/2, 0)"
   ]
  },
  {
   "cell_type": "code",
   "execution_count": 3,
   "metadata": {},
   "outputs": [
    {
     "data": {
      "text/plain": [
       "OrbitState(params=OrbitParams(m_1=0.8, q=0.5, e=0.5, P=36525.0, i=1.5707963267948966, omega=1.5707963267948966, v=Array(-1.7209051e-07, dtype=float32), M=1.5707963267948966, theta=0))"
      ]
     },
     "execution_count": 3,
     "metadata": {},
     "output_type": "execute_result"
    }
   ],
   "source": [
    "state = OrbitState(state0)\n",
    "state.init()"
   ]
  },
  {
   "cell_type": "code",
   "execution_count": null,
   "metadata": {},
   "outputs": [
    {
     "ename": "AttributeError",
     "evalue": "'OrbitState' object has no attribute 'v'",
     "output_type": "error",
     "traceback": [
      "\u001b[0;31m---------------------------------------------------------------------------\u001b[0m",
      "\u001b[0;31mAttributeError\u001b[0m                            Traceback (most recent call last)",
      "Cell \u001b[0;32mIn[4], line 4\u001b[0m\n\u001b[1;32m      2\u001b[0m \u001b[38;5;28;01mfor\u001b[39;00m _ \u001b[38;5;129;01min\u001b[39;00m \u001b[38;5;28mrange\u001b[39m(\u001b[38;5;241m100\u001b[39m):\n\u001b[1;32m      3\u001b[0m     state \u001b[38;5;241m=\u001b[39m state\u001b[38;5;241m.\u001b[39mupdate(dt\u001b[38;5;241m=\u001b[39m\u001b[38;5;241m365.25\u001b[39m)\n\u001b[0;32m----> 4\u001b[0m     v\u001b[38;5;241m.\u001b[39mappend(state\u001b[38;5;241m.\u001b[39mv)\n",
      "\u001b[0;31mAttributeError\u001b[0m: 'OrbitState' object has no attribute 'v'"
     ]
    }
   ],
   "source": [
    "v = []\n",
    "for _ in range(100):\n",
    "    state = state.update(dt=365.25)\n",
    "    v.append(state.params.v)"
   ]
  }
 ],
 "metadata": {
  "kernelspec": {
   "display_name": "base",
   "language": "python",
   "name": "python3"
  },
  "language_info": {
   "codemirror_mode": {
    "name": "ipython",
    "version": 3
   },
   "file_extension": ".py",
   "mimetype": "text/x-python",
   "name": "python",
   "nbconvert_exporter": "python",
   "pygments_lexer": "ipython3",
   "version": "3.12.4"
  }
 },
 "nbformat": 4,
 "nbformat_minor": 2
}
